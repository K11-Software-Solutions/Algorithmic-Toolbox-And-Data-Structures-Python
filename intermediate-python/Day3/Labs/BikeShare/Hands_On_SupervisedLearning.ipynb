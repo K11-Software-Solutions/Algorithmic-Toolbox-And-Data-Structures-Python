{
 "cells": [
  {
   "cell_type": "markdown",
   "metadata": {},
   "source": [
    "> **Citation**: The data used in this exercise is derived from [Capital Bikeshare](https://www.capitalbikeshare.com/system-data) and is used in accordance with the published [license agreement](https://www.capitalbikeshare.com/data-license-agreement).\n"
   ]
  },
  {
   "cell_type": "markdown",
   "metadata": {},
   "source": [
    "> **Citation**: Some of the code used in this exercise was derived from examples on the Microsoft Learn website.\n"
   ]
  },
  {
   "cell_type": "markdown",
   "metadata": {},
   "source": [
    "### Exploratory Data Analysis\n",
    "\n",
    "The first step is to explore the data used for training in order to understand the relationship between the features (X) and the label being predicted (Y).\n",
    "\n",
    "During this stage you might carry out the following:\n",
    "- Data cleaning\n",
    "- Handling missing values\n",
    "- Feature engineering\n",
    "- Normalization\n",
    "- Data encoding"
   ]
  },
  {
   "cell_type": "code",
   "execution_count": null,
   "metadata": {},
   "outputs": [],
   "source": [
    "# Load the bike data into a pandas DataFrame\n",
    "import pandas as pd\n",
    "bike_share_data = pd.read_csv('daily-bike-share.csv')\n",
    "bike_share_data.head()"
   ]
  },
  {
   "cell_type": "code",
   "execution_count": null,
   "metadata": {},
   "outputs": [],
   "source": [
    "bike_share_data.dtypes"
   ]
  },
  {
   "cell_type": "code",
   "execution_count": null,
   "metadata": {},
   "outputs": [],
   "source": [
    "bike_share_data['day'] = pd.DatetimeIndex(bike_share_data['dteday']).day\n",
    "bike_share_data.head(3)"
   ]
  },
  {
   "cell_type": "code",
   "execution_count": null,
   "metadata": {},
   "outputs": [],
   "source": [
    "features_label = ['temp','atemp','hum','windspeed','rentals']\n",
    "bike_share_data[features_label].describe()"
   ]
  },
  {
   "cell_type": "code",
   "execution_count": null,
   "metadata": {},
   "outputs": [],
   "source": [
    "# Visualize using matplotlib\n",
    "import matplotlib.pyplot as plt\n",
    "\n",
    "# Display the plots inside Jupyter notebook\n",
    "%matplotlib inline\n",
    "\n",
    "# Get a series of rentals\n",
    "rentals = bike_share_data['rentals']\n",
    "\n",
    "# A figure with 2 rows and 1 column to plot 2 graphs\n",
    "figure, axes = plt.subplots(2,1,figsize = (9,12))\n",
    "\n",
    "# Histogram plot\n",
    "axes[0].hist(rentals, bins=100)\n",
    "axes[0].set_ylabel('Frequency of rentals')\n",
    "\n",
    "# Add lines for descriptive statistics\n",
    "mean, median = rentals.mean(), rentals.median()\n",
    "axes[0].axvline(mean, color='purple', linestyle='dashed', linewidth=2)\n",
    "axes[0].axvline(median, color='green', linestyle='dashed', linewidth=2)\n",
    "\n",
    "# Boxplot\n",
    "axes[1].boxplot(rentals, vert=False)\n",
    "axes[1].set_xlabel('Rentals')\n",
    "\n",
    "figure.suptitle('Rental distribution')\n",
    "figure.show()"
   ]
  },
  {
   "cell_type": "code",
   "execution_count": null,
   "metadata": {},
   "outputs": [],
   "source": [
    "# Separate features and labels\n",
    "X, y = bike_share_data[['season','mnth', 'holiday','weekday','workingday','weathersit','temp', 'atemp', 'hum', 'windspeed']].values, bike_share_data['rentals'].values\n",
    "print('Features:',X[:10], '\\nLabels:', y[:10], sep='\\n')"
   ]
  },
  {
   "cell_type": "code",
   "execution_count": null,
   "metadata": {},
   "outputs": [],
   "source": [
    "%pip install scikit-learn"
   ]
  },
  {
   "cell_type": "code",
   "execution_count": null,
   "metadata": {},
   "outputs": [],
   "source": [
    "from sklearn.model_selection import \\\n",
    "    train_test_split as tts\n",
    "\n",
    "#Split the dataset into \n",
    "# 80% for the training and 20% for validation\n",
    "X_train, X_test, y_train, y_test = \\\n",
    "tts(X,y, test_size = 0.20, random_state = 0)"
   ]
  },
  {
   "cell_type": "code",
   "execution_count": null,
   "metadata": {},
   "outputs": [],
   "source": [
    "from sklearn.linear_model import LinearRegression\n",
    "\n",
    "# Fit the linear regression model on the training dataset\n",
    "model = LinearRegression().fit(X_train, y_train)\n",
    "print(model)"
   ]
  },
  {
   "cell_type": "code",
   "execution_count": null,
   "metadata": {},
   "outputs": [],
   "source": [
    "# Evaluate the model with test data\n",
    "import numpy as np\n",
    "\n",
    "predicted_rentals = model.predict(X_test)\n",
    "print('Predicted rentals: ', np.round(predicted_rentals)[:5])\n",
    "print('Actual rentals: ', np.round(y_test)[:5])"
   ]
  },
  {
   "cell_type": "code",
   "execution_count": null,
   "metadata": {},
   "outputs": [],
   "source": [
    "# Plot a trendline to compare the output\n",
    "import matplotlib.pyplot as plt\n",
    "\n",
    "%matplotlib inline\n",
    "\n",
    "plt.scatter(y_test, predicted_rentals)\n",
    "plt.xlabel('Actual Rentals')\n",
    "plt.ylabel('Predicted Rentals')\n",
    "plt.title('Daily Bike Share Predictions')\n",
    "\n",
    "z = np.polyfit(y_test, predicted_rentals, 1)\n",
    "p = np.poly1d(z)\n",
    "plt.plot(y_test,p(y_test), color='green')\n",
    "plt.show()"
   ]
  },
  {
   "cell_type": "code",
   "execution_count": null,
   "metadata": {},
   "outputs": [],
   "source": [
    "# Quantify errors using evaluation metrics\n",
    "from sklearn.metrics import mean_squared_error, r2_score\n",
    "\n",
    "mse = mean_squared_error(y_test, predicted_rentals)\n",
    "print(\"MSE:\", mse)\n",
    "\n",
    "rmse = np.sqrt(mse)\n",
    "print(\"RMSE:\", rmse)\n",
    "\n",
    "r2 = r2_score(y_test, predicted_rentals)\n",
    "print(\"R2:\", r2)"
   ]
  },
  {
   "cell_type": "code",
   "execution_count": 5,
   "metadata": {},
   "outputs": [
    {
     "data": {
      "text/plain": [
       "4.0"
      ]
     },
     "execution_count": 5,
     "metadata": {},
     "output_type": "execute_result"
    }
   ],
   "source": [
    "5//1.005"
   ]
  },
  {
   "cell_type": "code",
   "execution_count": 17,
   "metadata": {},
   "outputs": [
    {
     "name": "stdout",
     "output_type": "stream",
     "text": [
      "A = 1480675098992\n",
      "B = 1480675099152\n",
      "A = 1480675098992\n",
      "B = 1480675098992\n"
     ]
    }
   ],
   "source": [
    "a = 5\n",
    "b = 10  \n",
    "\n",
    "print('A =',id(a))\n",
    "print('B =',id(b))\n",
    "b = a\n",
    "\n",
    "print('A =',id(a))\n",
    "print('B =',id(b))"
   ]
  },
  {
   "cell_type": "code",
   "execution_count": 23,
   "metadata": {},
   "outputs": [
    {
     "name": "stdout",
     "output_type": "stream",
     "text": [
      "('Natalie Wood', 'Carol')\n",
      "('Robert Culp', 'Bob')\n",
      "('Elliot Gould', 'Ted')\n",
      "('Dyan Cannon', 'Alice')\n"
     ]
    }
   ],
   "source": [
    "names=[\"Carol\", \"Bob\", \"Ted\", \"Alice\"]  \n",
    "actors=[\"Natalie Wood\", \"Robert Culp\",   \n",
    "\t\"Elliot Gould\", \"Dyan Cannon\"]  \n",
    "role=zip(actors, names)\n",
    "for person in role:  \n",
    "\tprint(person)\n"
   ]
  },
  {
   "cell_type": "code",
   "execution_count": 27,
   "metadata": {},
   "outputs": [],
   "source": [
    "names=([\"Carol\"], \"Bob\", \"Ted\", \"Alice\")"
   ]
  },
  {
   "cell_type": "code",
   "execution_count": 28,
   "metadata": {},
   "outputs": [],
   "source": [
    "names[0][0] = 10"
   ]
  },
  {
   "cell_type": "code",
   "execution_count": 29,
   "metadata": {},
   "outputs": [
    {
     "data": {
      "text/plain": [
       "([10], 'Bob', 'Ted', 'Alice')"
      ]
     },
     "execution_count": 29,
     "metadata": {},
     "output_type": "execute_result"
    }
   ],
   "source": [
    "names"
   ]
  },
  {
   "cell_type": "code",
   "execution_count": 30,
   "metadata": {},
   "outputs": [
    {
     "name": "stdout",
     "output_type": "stream",
     "text": [
      "loc in foo(): False\n",
      "loc in global: False\n",
      "glob in global: True\n"
     ]
    }
   ],
   "source": [
    "\n",
    "glob = 1\n",
    "\n",
    "def foo():\n",
    "    loc = 5\n",
    "    \n",
    "print('loc in foo():', \\\n",
    "      'loc' in locals())\n",
    "foo()\n",
    "print('loc in global:', \\\n",
    "      'loc' in globals())\n",
    "\n",
    "print('glob in global:', \\\n",
    "      'foo' in globals())\n"
   ]
  },
  {
   "cell_type": "code",
   "execution_count": null,
   "metadata": {},
   "outputs": [],
   "source": []
  }
 ],
 "metadata": {
  "kernelspec": {
   "display_name": "Python 3.10.2 64-bit",
   "language": "python",
   "name": "python3"
  },
  "language_info": {
   "codemirror_mode": {
    "name": "ipython",
    "version": 3
   },
   "file_extension": ".py",
   "mimetype": "text/x-python",
   "name": "python",
   "nbconvert_exporter": "python",
   "pygments_lexer": "ipython3",
   "version": "3.10.2"
  },
  "orig_nbformat": 4,
  "vscode": {
   "interpreter": {
    "hash": "8ef4f7d30ada8ac0734772085998dc737c9d06b351fea519132b7e10080fcd18"
   }
  }
 },
 "nbformat": 4,
 "nbformat_minor": 2
}
